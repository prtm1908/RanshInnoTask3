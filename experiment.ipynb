{
 "cells": [
  {
   "cell_type": "code",
   "execution_count": 27,
   "metadata": {},
   "outputs": [],
   "source": [
    "from transformers import AutoTokenizer, AutoModelForTokenClassification\n",
    "from transformers import pipeline\n",
    "from sentence_transformers import SentenceTransformer\n",
    "from sklearn.metrics.pairwise import cosine_similarity\n",
    "from langchain.document_loaders import UnstructuredURLLoader\n",
    "from collections import defaultdict\n",
    "import os\n",
    "import re"
   ]
  },
  {
   "cell_type": "code",
   "execution_count": 28,
   "metadata": {},
   "outputs": [],
   "source": [
    "os.environ[\"HUGGINGFACEHUB_API_TOKEN\"] = \"\""
   ]
  },
  {
   "cell_type": "code",
   "execution_count": 29,
   "metadata": {},
   "outputs": [],
   "source": [
    "classifier = pipeline(\"text-classification\", model=\"dima806/news-category-classifier-distilbert\")\n",
    "\n",
    "tags=['POLITICS', 'WORLD NEWS', 'WORLDPOST']"
   ]
  },
  {
   "cell_type": "code",
   "execution_count": 30,
   "metadata": {},
   "outputs": [
    {
     "name": "stderr",
     "output_type": "stream",
     "text": [
      "Some weights of the model checkpoint at dslim/bert-base-NER were not used when initializing BertForTokenClassification: ['bert.pooler.dense.bias', 'bert.pooler.dense.weight']\n",
      "- This IS expected if you are initializing BertForTokenClassification from the checkpoint of a model trained on another task or with another architecture (e.g. initializing a BertForSequenceClassification model from a BertForPreTraining model).\n",
      "- This IS NOT expected if you are initializing BertForTokenClassification from the checkpoint of a model that you expect to be exactly identical (initializing a BertForSequenceClassification model from a BertForSequenceClassification model).\n",
      "c:\\Users\\prath\\anaconda3\\envs\\ransh\\lib\\site-packages\\transformers\\pipelines\\token_classification.py:168: UserWarning: `grouped_entities` is deprecated and will be removed in version v5.0.0, defaulted to `aggregation_strategy=\"simple\"` instead.\n",
      "  warnings.warn(\n"
     ]
    }
   ],
   "source": [
    "tokenizer = AutoTokenizer.from_pretrained(\"dslim/bert-base-NER\")\n",
    "model = AutoModelForTokenClassification.from_pretrained(\"dslim/bert-base-NER\")\n",
    "\n",
    "nlp = pipeline(\"ner\", model=model, tokenizer=tokenizer,grouped_entities=True)"
   ]
  },
  {
   "cell_type": "code",
   "execution_count": 31,
   "metadata": {},
   "outputs": [],
   "source": [
    "similarity = SentenceTransformer('davanstrien/headline-similarity')"
   ]
  },
  {
   "cell_type": "code",
   "execution_count": 32,
   "metadata": {},
   "outputs": [],
   "source": [
    "summarizer = pipeline(\"summarization\", model=\"JordiAb/BART_news_summarizer\")"
   ]
  },
  {
   "cell_type": "code",
   "execution_count": 33,
   "metadata": {},
   "outputs": [],
   "source": [
    "text=[\"BJPs Suvendu Adhikari claimed Shajahan Sheikh managed to negotiate a deal with the Mamata Banerjee Police. West Bengal BJP leader Suvendu Adhikari on Wednesday claimed that the absconding Trinamool Congress (TMC) strongman Shajahan Sheikh, the main accused of the Sandeshkhali violence over land grab and sexual harassment, is in safe custody of the state police since Tuesday night. Suvendu said the TMC strongman managed to negotiate a deal with chief minister Mamata Banerjee's police and has been extended five-star facilities during his time in custody. The Scoundrel of Sandeshkhali - Seikh Shahjahan is in the safe custody of Mamata Police since 12 am last night. He was taken away from the Bermajur - II Gram Panchayat area, after he managed to negotiate a deal with the Mamata Police, through influential mediators, that he would be taken care of properly while in Police and Judicial Custody. He will be extended 5-star facilities during his time behind the bars and will have access to a mobile phone, through which he will be able to lead the Tolamool Party virtually. Even a bed in the Woodburn Ward will be kept ready and vacant for him if he chooses to spend some time there, Adhikari said in a post on X (formerly Twitter). TMC leader Santanu Sen dubbed Adhikari's allegations as baseless. He said that Adhikari is making such brazen attempts to disturb the law and order situation in West Bengal.\",\"Controversial Trinamool Congress leader Sheikh Shahjahan was arrested by the West Bengal Police on February 28 night over an attack on officials of the Enforcement Directorate last month. The Trinamool leader, against whom multiple allegations of land grab and sexual assault have been levelled by villagers at Sandeshkhali, was sent to 10 days in police custody by a court in West Bengals North 24 Parganas district on February 29. Hours after the arrest, the Trinamool suspended the party strongman from North 24 Parganas for six years. Sandeshkhali has been on the boil since the first week of February after villagers staged violent protests seeking action against Mr. Shahjahan and other local Trinamool leaders. While Trinamool leaders Shiboprasad Hazra and Uttam Sardar, who were facing sexual assault charges, were arrested by the police, Mr. Shahajahan had evaded security agencies till now.\",\"Speaking in the Delhi Assembly on the issue of removal of civil defence volunteers deployed as bus marshals in Delhi Transport Corporation (DTC) and cluster buses, Kejriwal said the scheme ran smoothly from 2015 to 2022. We formed the government in 2015 with a promise to ensure women's safety. We installed CCTV cameras in five years, street lights were installed at dark spots and buses were equipped with CCTV cameras, panic buttons and bus marshals were deployed. There are several instances of good work by bus marshals, the chief minister said. The bus marshal scheme worked well for eight years but in 2023, officers started raising objections saying civil defence volunteers could not work as marshals, he said. The Lt Governor threatened officers to stall the bus marshal scheme. The L-G questioned the deployment of marshals saying there were CCTV cameras and panic buttons Kejriwal charged. He also accused the BJP of shedding crocodile tears over the issue and said that he was ready to sign any paper for the reinstatement of bus marshals.Kejriwal also spoke about Saxena's open letter to him on the one-time settlement scheme for allegedly inflated water bills.The language of the L-G's letter was filthy, he said, adding such language should not be used.\"]"
   ]
  },
  {
   "cell_type": "code",
   "execution_count": 34,
   "metadata": {},
   "outputs": [],
   "source": [
    "for i in text:\n",
    "    if classifier(i)[0]['label'] not in tags:\n",
    "        text.remove(i)"
   ]
  },
  {
   "cell_type": "code",
   "execution_count": 35,
   "metadata": {},
   "outputs": [],
   "source": [
    "imp_words=[]\n",
    "imp_sentences=[]\n",
    "\n",
    "for i in text:\n",
    "    for j in nlp(i):\n",
    "        if(j['word'][0]=='#'):\n",
    "            j['word'] = re.sub('^#+', '', j['word'])\n",
    "            temp=imp_words[-1]\n",
    "            del imp_words[-1]\n",
    "            temp+=j['word']\n",
    "            if temp not in imp_words:\n",
    "                imp_words.append(temp)\n",
    "            continue\n",
    "            \n",
    "        if j['word'] not in imp_words:\n",
    "            imp_words.append(j['word'])\n",
    "\n",
    "    sentence = ' '.join(imp_words)\n",
    "    imp_sentences.append(sentence)\n",
    "    imp_words=[]\n",
    "    "
   ]
  },
  {
   "cell_type": "code",
   "execution_count": 36,
   "metadata": {},
   "outputs": [
    {
     "name": "stdout",
     "output_type": "stream",
     "text": [
      "['BJP Suvendu Adhikari Shajahan Sheikh Mamata Banerjee Police West Bengal Trinamool Congress TMC Sandeshkhali Suvendu Mamata Banerjee Seikh Shahjah Mamata Police Bermajur II Gram Panchayat Police and Judicial Custody Tolamool Party Woodburn Ward Adhikari X Twitter Santanu Sen', 'Trinamool Congress Shahjah West Bengal Police Enforcement Directorate Trinamool Sandeshkhali West Bengals North 24 Parganas North 24 Parganas Shiboprasad Hazra Uttam Sarda Shahaja', 'Delhi Assembly Delhi Transport Corporation DTC Keriwal L - G BJP Kejriwal Saxen']\n"
     ]
    }
   ],
   "source": [
    "print(imp_sentences)"
   ]
  },
  {
   "cell_type": "code",
   "execution_count": 37,
   "metadata": {},
   "outputs": [
    {
     "name": "stdout",
     "output_type": "stream",
     "text": [
      "[[0, 1], [2]]\n"
     ]
    }
   ],
   "source": [
    "embeddings=similarity.encode(imp_sentences)\n",
    "\n",
    "similar_sentences = defaultdict(list)\n",
    "threshold = 0.6\n",
    "\n",
    "# Find similar sentences\n",
    "for i in range(len(embeddings)):\n",
    "    for j in range(i + 1, len(embeddings)):\n",
    "        similarity_score = cosine_similarity([embeddings[i]], [embeddings[j]])[0][0]\n",
    "        if similarity_score > threshold:\n",
    "            similar_sentences[i].append(j)\n",
    "            similar_sentences[j].append(i)\n",
    "\n",
    "# Find connected components\n",
    "visited = set()\n",
    "groups = []\n",
    "\n",
    "def dfs(node, group):\n",
    "    visited.add(node)\n",
    "    group.append(node)\n",
    "    for neighbor in similar_sentences[node]:\n",
    "        if neighbor not in visited:\n",
    "            dfs(neighbor, group)\n",
    "\n",
    "for i in range(len(embeddings)):\n",
    "    if i not in visited:\n",
    "        group = []\n",
    "        dfs(i, group)\n",
    "        groups.append(group)\n",
    "\n",
    "# Print the merged groups\n",
    "print(groups)\n",
    "\n",
    "for group in groups:\n",
    "    if len(group) > 1:\n",
    "        first_element_index = group[0]\n",
    "        first_element = text[first_element_index]\n",
    "        for element_index in group[1:]:\n",
    "            # Merge first element with each other element\n",
    "            # For demonstration, we'll just concatenate them\n",
    "            merged_element = first_element + text[element_index]\n",
    "            # Replace the original element with the merged one\n",
    "            text[first_element_index] = merged_element\n",
    "        # Remove the non-merged elements\n",
    "        text[group[0] + 1:group[-1] + 1] = []\n",
    "            "
   ]
  },
  {
   "cell_type": "code",
   "execution_count": 40,
   "metadata": {},
   "outputs": [
    {
     "name": "stdout",
     "output_type": "stream",
     "text": [
      "West Bengal BJP leader Suvendu Adhikari claimed that Trinamool Congress (TMC) strongman Shajahan Sheikh, the main accused of the Sandeshkhali violence over land grab and sexual harassment, is in safe custody of the state police since Tuesday night. Sheikh managed to negotiate a deal with chief minister Mamata Banerjee's police and has been extended five-star facilities during his time in custody.\n",
      "\n",
      "\n",
      "\n",
      "\n",
      "Speaking in the Delhi Assembly, Kejriwal discussed the removal of civil defence volunteers deployed as bus marshals in Delhi Transport Corporation (DTC) and cluster buses. He stated that the scheme ran smoothly from 2015 to 2022 and that the government formed in 2015 with a promise to ensure women's safety. The bus marshal scheme worked well for eight years, but in 2023, officers started raising objections, claiming civil defense volunteers could not work as marshals.\n",
      "\n",
      "\n",
      "\n",
      "\n"
     ]
    }
   ],
   "source": [
    "for i in text:\n",
    "    print(summarizer(i)[0]['summary_text'])\n",
    "    print('\\n\\n\\n')"
   ]
  }
 ],
 "metadata": {
  "kernelspec": {
   "display_name": "ransh",
   "language": "python",
   "name": "python3"
  },
  "language_info": {
   "codemirror_mode": {
    "name": "ipython",
    "version": 3
   },
   "file_extension": ".py",
   "mimetype": "text/x-python",
   "name": "python",
   "nbconvert_exporter": "python",
   "pygments_lexer": "ipython3",
   "version": "3.9.18"
  }
 },
 "nbformat": 4,
 "nbformat_minor": 2
}
